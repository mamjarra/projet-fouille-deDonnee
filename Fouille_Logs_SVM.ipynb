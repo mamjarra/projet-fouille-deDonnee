{
 "cells": [
  {
   "cell_type": "code",
   "execution_count": null,
   "id": "3427886a",
   "metadata": {},
   "outputs": [
    {
     "data": {
      "text/html": [
       "<div>\n",
       "<style scoped>\n",
       "    .dataframe tbody tr th:only-of-type {\n",
       "        vertical-align: middle;\n",
       "    }\n",
       "\n",
       "    .dataframe tbody tr th {\n",
       "        vertical-align: top;\n",
       "    }\n",
       "\n",
       "    .dataframe thead th {\n",
       "        text-align: right;\n",
       "    }\n",
       "</style>\n",
       "<table border=\"1\" class=\"dataframe\">\n",
       "  <thead>\n",
       "    <tr style=\"text-align: right;\">\n",
       "      <th></th>\n",
       "      <th>Label</th>\n",
       "      <th>Content</th>\n",
       "      <th>tokens</th>\n",
       "    </tr>\n",
       "  </thead>\n",
       "  <tbody>\n",
       "    <tr>\n",
       "      <th>0</th>\n",
       "      <td>authentication-failed</td>\n",
       "      <td>[Tue Apr 11 14:36:11 2000] [error] [client 28....</td>\n",
       "      <td>[tue, apr, error, client, user, jessicakaiser,...</td>\n",
       "    </tr>\n",
       "    <tr>\n",
       "      <th>1</th>\n",
       "      <td>authentication-failed</td>\n",
       "      <td>[Tue Jan 21 17:01:07 2020] [error] [client 108...</td>\n",
       "      <td>[tue, jan, error, client, user, mejianathan, a...</td>\n",
       "    </tr>\n",
       "    <tr>\n",
       "      <th>2</th>\n",
       "      <td>authentication-failed</td>\n",
       "      <td>[Thu Oct 12 01:17:44 2023] [ malfunction error...</td>\n",
       "      <td>[thu, oct, malfunction, error, client, user, a...</td>\n",
       "    </tr>\n",
       "    <tr>\n",
       "      <th>3</th>\n",
       "      <td>authentication-failed</td>\n",
       "      <td>[Tue Jul 30 16:18:08 2013] [error] [client 217...</td>\n",
       "      <td>[tue, jul, error, client, user, bushcassandra,...</td>\n",
       "    </tr>\n",
       "    <tr>\n",
       "      <th>4</th>\n",
       "      <td>authentication-failed</td>\n",
       "      <td>[Thu Sep 10 05:09:58 2015] [error] [client 2.5...</td>\n",
       "      <td>[thu, sep, error, client, user, dylanlewis, au...</td>\n",
       "    </tr>\n",
       "  </tbody>\n",
       "</table>\n",
       "</div>"
      ],
      "text/plain": [
       "                   Label                                            Content  \\\n",
       "0  authentication-failed  [Tue Apr 11 14:36:11 2000] [error] [client 28....   \n",
       "1  authentication-failed  [Tue Jan 21 17:01:07 2020] [error] [client 108...   \n",
       "2  authentication-failed  [Thu Oct 12 01:17:44 2023] [ malfunction error...   \n",
       "3  authentication-failed  [Tue Jul 30 16:18:08 2013] [error] [client 217...   \n",
       "4  authentication-failed  [Thu Sep 10 05:09:58 2015] [error] [client 2.5...   \n",
       "\n",
       "                                              tokens  \n",
       "0  [tue, apr, error, client, user, jessicakaiser,...  \n",
       "1  [tue, jan, error, client, user, mejianathan, a...  \n",
       "2  [thu, oct, malfunction, error, client, user, a...  \n",
       "3  [tue, jul, error, client, user, bushcassandra,...  \n",
       "4  [thu, sep, error, client, user, dylanlewis, au...  "
      ]
     },
     "execution_count": 17,
     "metadata": {},
     "output_type": "execute_result"
    }
   ],
   "source": [
    "#  Importations\n",
    "import pandas as pd\n",
    "import numpy as np\n",
    "import re\n",
    "import matplotlib.pyplot as plt\n",
    "from sklearn.svm import SVC\n",
    "from sklearn.model_selection import train_test_split, cross_val_score\n",
    "from sklearn.metrics import classification_report, accuracy_score, confusion_matrix\n",
    "from gensim.models import Word2Vec\n",
    "from sklearn.preprocessing import LabelEncoder\n",
    "import seaborn as sns\n",
    "import joblib\n",
    "import os\n",
    "\n",
    "# 📥 Chargement du dataset\n",
    "df = pd.read_csv(\"data/log_structured_labeled.csv\")\n",
    "df.dropna(inplace=True)\n",
    "df = df[[\"Label\", \"Content\"]]\n",
    "\n",
    "# 🔤 Nettoyage et tokenisation\n",
    "def preprocess(text):\n",
    "    text = re.sub(r\"[^a-zA-Z]\", \" \", text.lower())\n",
    "    return text.split()\n",
    "\n",
    "df[\"tokens\"] = df[\"Content\"].apply(preprocess)\n",
    "df.head()\n"
   ]
  },
  {
   "cell_type": "code",
   "execution_count": 18,
   "id": "5c175c8c",
   "metadata": {},
   "outputs": [],
   "source": [
    "# 🧠 Entraînement du modèle Word2Vec (si non déjà fait)\n",
    "w2v_model = Word2Vec(sentences=df[\"tokens\"], vector_size=100, window=5, min_count=2, workers=4)\n",
    "w2v_model.save(\"src/vectorizer.model\")\n"
   ]
  },
  {
   "cell_type": "code",
   "execution_count": 19,
   "id": "af51cdb0",
   "metadata": {},
   "outputs": [],
   "source": [
    "# ➗ Vectorisation : moyenne des vecteurs de mots\n",
    "def vectorize(tokens):\n",
    "    vectors = [w2v_model.wv[w] for w in tokens if w in w2v_model.wv]\n",
    "    return np.mean(vectors, axis=0) if vectors else np.zeros(100)\n",
    "\n",
    "X = np.array([vectorize(toks) for toks in df[\"tokens\"]])\n",
    "\n",
    "# 🎯 Encodage des labels\n",
    "label_encoder = LabelEncoder()\n",
    "y = label_encoder.fit_transform(df[\"Label\"])\n",
    "\n",
    "# Sauvegarde pour utilisation future\n",
    "np.save(\"src/X.npy\", X)\n",
    "np.save(\"src/y.npy\", y)\n"
   ]
  },
  {
   "cell_type": "code",
   "execution_count": 20,
   "id": "3f033df2",
   "metadata": {},
   "outputs": [
    {
     "name": "stdout",
     "output_type": "stream",
     "text": [
      "Taille du dataset : (34917, 3)\n",
      "Distribution des labels :\n",
      " Label\n",
      "http-request-failure            1167\n",
      "ids-alert                       1167\n",
      "network-traffic                 1167\n",
      "file-read                       1167\n",
      "file-modification               1167\n",
      "file-deleted                    1167\n",
      "file-action-failure             1167\n",
      "directory-deleted               1167\n",
      "directory-created               1167\n",
      "directory-changed               1167\n",
      "connection-opened               1167\n",
      "connection-failed               1167\n",
      "http-request-success            1167\n",
      "process-started                 1166\n",
      "process-shutdown                1166\n",
      "process-error                   1166\n",
      "system-configuration-changed    1166\n",
      "authentication-failed           1166\n",
      "hardware-monitoring             1166\n",
      "user-session-open               1166\n",
      "authentication-success          1165\n",
      "process-info                    1165\n",
      "database-operation              1165\n",
      "connection-closed               1165\n",
      "process-ended                   1164\n",
      "user-logout                     1161\n",
      "file-write                      1158\n",
      "user-creation                   1158\n",
      "user-deletion                   1158\n",
      "network-filtered                1125\n",
      "Name: count, dtype: int64\n"
     ]
    },
    {
     "data": {
      "image/png": "[encoded data removed]",
      "text/plain": [
       "<Figure size 640x480 with 1 Axes>"
      ]
     },
     "metadata": {},
     "output_type": "display_data"
    }
   ],
   "source": [
    "# 📈 Analyse statistique rapide\n",
    "print(\"Taille du dataset :\", df.shape)\n",
    "print(\"Distribution des labels :\\n\", df[\"Label\"].value_counts())\n",
    "\n",
    "sns.countplot(x=df[\"Label\"])\n",
    "plt.title(\"Distribution des classes\")\n",
    "plt.show()\n"
   ]
  },
  {
   "cell_type": "code",
   "execution_count": 21,
   "id": "8f3a23bf",
   "metadata": {},
   "outputs": [
    {
     "name": "stdout",
     "output_type": "stream",
     "text": [
      "🔴 Surapprentissage :\n",
      "Accuracy: 0.9356901928339592\n",
      "              precision    recall  f1-score   support\n",
      "\n",
      "           0       0.84      0.86      0.85      1044\n",
      "           1       0.82      0.88      0.85      1040\n",
      "           2       0.87      0.84      0.85      1064\n",
      "           3       0.95      0.95      0.95      1060\n",
      "           4       0.92      0.91      0.91      1045\n",
      "           5       1.00      0.99      0.99      1041\n",
      "           6       0.85      0.80      0.82      1053\n",
      "           7       0.97      0.97      0.97      1050\n",
      "           8       0.82      0.84      0.83      1052\n",
      "           9       1.00      1.00      1.00      1038\n",
      "          10       0.86      0.82      0.84      1050\n",
      "          11       0.82      0.88      0.85      1038\n",
      "          12       0.98      0.98      0.98      1075\n",
      "          13       0.97      1.00      0.99      1046\n",
      "          14       0.96      0.95      0.95      1052\n",
      "          15       0.98      1.00      0.99      1044\n",
      "          16       0.98      1.00      0.99      1059\n",
      "          17       0.99      1.00      1.00      1045\n",
      "          18       0.92      0.95      0.93      1006\n",
      "          19       1.00      0.99      0.99      1045\n",
      "          20       0.94      0.95      0.95      1022\n",
      "          21       0.99      1.00      0.99      1064\n",
      "          22       0.99      0.97      0.98      1035\n",
      "          23       0.95      0.95      0.95      1047\n",
      "          24       0.92      0.89      0.91      1043\n",
      "          25       0.94      0.94      0.94      1049\n",
      "          26       0.99      0.96      0.97      1057\n",
      "          27       0.99      0.97      0.98      1046\n",
      "          28       0.89      0.83      0.86      1055\n",
      "          29       1.00      0.99      0.99      1061\n",
      "\n",
      "    accuracy                           0.94     31426\n",
      "   macro avg       0.94      0.94      0.94     31426\n",
      "weighted avg       0.94      0.94      0.94     31426\n",
      "\n"
     ]
    },
    {
     "data": {
      "text/plain": [
       "['src/model.pkl']"
      ]
     },
     "execution_count": 21,
     "metadata": {},
     "output_type": "execute_result"
    }
   ],
   "source": [
    "# ⚠️ Cas 1 : Sur-apprentissage\n",
    "X_train, X_test, y_train, y_test = train_test_split(X, y, train_size=0.1, random_state=42)\n",
    "clf_surfit = SVC(C=1000, kernel=\"linear\")\n",
    "clf_surfit.fit(X_train, y_train)\n",
    "\n",
    "y_pred1 = clf_surfit.predict(X_test)\n",
    "\n",
    "print(\"🔴 Surapprentissage :\")\n",
    "print(\"Accuracy:\", accuracy_score(y_test, y_pred1))\n",
    "print(classification_report(y_test, y_pred1))\n",
    "\n",
    "joblib.dump(clf_surfit, \"src/model.pkl\")\n"
   ]
  },
  {
   "cell_type": "code",
   "execution_count": 22,
   "id": "a6fc1ac6",
   "metadata": {},
   "outputs": [
    {
     "name": "stdout",
     "output_type": "stream",
     "text": [
      "🟡 Régularisation :\n",
      "Accuracy: 0.9573310423825888\n",
      "              precision    recall  f1-score   support\n",
      "\n",
      "           0       0.97      0.91      0.94       227\n",
      "           1       0.90      0.96      0.93       236\n",
      "           2       0.89      0.94      0.91       253\n",
      "           3       0.91      1.00      0.95       236\n",
      "           4       0.97      0.89      0.93       244\n",
      "           5       1.00      1.00      1.00       222\n",
      "           6       1.00      0.73      0.84       232\n",
      "           7       1.00      0.99      0.99       243\n",
      "           8       0.79      0.99      0.88       228\n",
      "           9       1.00      1.00      1.00       221\n",
      "          10       0.98      0.76      0.86       248\n",
      "          11       0.78      1.00      0.87       218\n",
      "          12       0.99      1.00      0.99       259\n",
      "          13       0.99      1.00      1.00       233\n",
      "          14       0.99      0.99      0.99       219\n",
      "          15       1.00      1.00      1.00       248\n",
      "          16       1.00      1.00      1.00       229\n",
      "          17       1.00      1.00      1.00       231\n",
      "          18       0.95      0.97      0.96       219\n",
      "          19       1.00      0.99      1.00       213\n",
      "          20       0.97      0.95      0.96       229\n",
      "          21       1.00      1.00      1.00       235\n",
      "          22       0.99      0.99      0.99       230\n",
      "          23       0.94      0.99      0.96       215\n",
      "          24       0.97      0.93      0.95       238\n",
      "          25       0.97      0.96      0.97       258\n",
      "          26       1.00      1.00      1.00       238\n",
      "          27       0.98      0.98      0.98       212\n",
      "          28       0.93      0.87      0.89       245\n",
      "          29       1.00      1.00      1.00       225\n",
      "\n",
      "    accuracy                           0.96      6984\n",
      "   macro avg       0.96      0.96      0.96      6984\n",
      "weighted avg       0.96      0.96      0.96      6984\n",
      "\n"
     ]
    },
    {
     "data": {
      "text/plain": [
       "['src/model_regul.pkl']"
      ]
     },
     "execution_count": 22,
     "metadata": {},
     "output_type": "execute_result"
    }
   ],
   "source": [
    "# ✅ Cas 2 : Régularisation normale\n",
    "X_train, X_test, y_train, y_test = train_test_split(X, y, train_size=0.8, random_state=42)\n",
    "clf_regul = SVC(C=1.0, kernel=\"linear\")\n",
    "clf_regul.fit(X_train, y_train)\n",
    "\n",
    "y_pred2 = clf_regul.predict(X_test)\n",
    "\n",
    "print(\"🟡 Régularisation :\")\n",
    "print(\"Accuracy:\", accuracy_score(y_test, y_pred2))\n",
    "print(classification_report(y_test, y_pred2))\n",
    "\n",
    "joblib.dump(clf_regul, \"src/model_regul.pkl\")\n"
   ]
  },
  {
   "cell_type": "code",
   "execution_count": null,
   "id": "dc4397b1",
   "metadata": {},
   "outputs": [
    {
     "name": "stdout",
     "output_type": "stream",
     "text": [
      "🎯 Surappris - Accuracy : 0.9617640159512081\n",
      "              precision    recall  f1-score   support\n",
      "\n",
      "           0       0.90      0.90      0.90       872\n",
      "           1       0.92      0.92      0.92       878\n",
      "           2       0.98      0.99      0.98       774\n",
      "           3       0.94      0.97      0.96       886\n",
      "           4       0.97      0.93      0.95       923\n",
      "           5       0.84      0.83      0.84      1045\n",
      "           6       0.99      1.00      1.00      1043\n",
      "           7       0.85      0.86      0.86      1051\n",
      "           8       1.00      1.00      1.00      1052\n",
      "           9       0.86      0.87      0.86      1056\n",
      "          10       0.83      0.84      0.84      1050\n",
      "          11       1.00      1.00      1.00      1055\n",
      "          12       1.00      1.00      1.00       696\n",
      "          13       0.99      1.00      1.00       517\n",
      "          14       1.00      1.00      1.00      1077\n",
      "          15       1.00      1.00      1.00       988\n",
      "          16       0.99      1.00      1.00       991\n",
      "          17       1.00      1.00      1.00       305\n",
      "          18       1.00      1.00      1.00      1058\n",
      "          19       1.00      0.99      0.99       868\n",
      "          20       0.99      1.00      1.00      1064\n",
      "          21       1.00      1.00      1.00       893\n",
      "          22       0.99      0.98      0.99      1036\n",
      "          23       0.99      0.98      0.98       964\n",
      "          24       0.98      0.98      0.98      1016\n",
      "          25       1.00      0.98      0.99       519\n",
      "          26       1.00      1.00      1.00       210\n",
      "          27       1.00      0.99      0.99       664\n",
      "          28       1.00      1.00      1.00      1027\n",
      "\n",
      "    accuracy                           0.96     25578\n",
      "   macro avg       0.97      0.97      0.97     25578\n",
      "weighted avg       0.96      0.96      0.96     25578\n",
      "\n"
     ]
    }
   ],
   "source": [
    "# 🔁 Cas 3 : Validation croisée\n",
    "clf_cv = SVC(C=0.5, kernel=\"linear\")\n",
    "scores = cross_val_score(clf_cv, X, y, cv=5, scoring=\"accuracy\")\n",
    "\n",
    "print(\"🟢 Validation croisée :\")\n",
    "print(\"Scores par pli :\", scores)\n",
    "print(\"Moyenne :\", np.mean(scores))\n",
    "\n",
    "clf_cv.fit(X, y)\n",
    "joblib.dump(clf_cv, \"src/model_cv.pkl\")\n"
   ]
  },
  {
   "cell_type": "code",
   "execution_count": 24,
   "id": "4992394e",
   "metadata": {},
   "outputs": [
    {
     "name": "stdout",
     "output_type": "stream",
     "text": [
      " Surappris - Accuracy: 0.9415\n",
      "              precision    recall  f1-score   support\n",
      "\n",
      "           0       0.86      0.88      0.87      1166\n",
      "           1       0.84      0.89      0.86      1165\n",
      "           2       0.88      0.85      0.87      1165\n",
      "           3       0.96      0.96      0.96      1167\n",
      "           4       0.93      0.92      0.92      1167\n",
      "           5       1.00      0.99      0.99      1165\n",
      "           6       0.86      0.81      0.84      1167\n",
      "           7       0.97      0.98      0.97      1167\n",
      "           8       0.83      0.86      0.85      1167\n",
      "           9       1.00      1.00      1.00      1167\n",
      "          10       0.88      0.84      0.86      1167\n",
      "          11       0.83      0.89      0.86      1167\n",
      "          12       0.98      0.98      0.98      1167\n",
      "          13       0.98      1.00      0.99      1158\n",
      "          14       0.96      0.95      0.96      1166\n",
      "          15       0.98      1.00      0.99      1167\n",
      "          16       0.98      1.00      0.99      1167\n",
      "          17       0.99      1.00      1.00      1167\n",
      "          18       0.92      0.96      0.94      1125\n",
      "          19       1.00      0.99      0.99      1167\n",
      "          20       0.95      0.96      0.95      1164\n",
      "          21       0.99      1.00      1.00      1166\n",
      "          22       0.99      0.98      0.98      1165\n",
      "          23       0.95      0.96      0.96      1166\n",
      "          24       0.93      0.90      0.92      1166\n",
      "          25       0.95      0.94      0.95      1166\n",
      "          26       0.99      0.96      0.97      1158\n",
      "          27       0.99      0.97      0.98      1158\n",
      "          28       0.90      0.84      0.87      1161\n",
      "          29       1.00      0.99      0.99      1166\n",
      "\n",
      "    accuracy                           0.94     34917\n",
      "   macro avg       0.94      0.94      0.94     34917\n",
      "weighted avg       0.94      0.94      0.94     34917\n",
      "\n",
      " Régularisé - Accuracy: 0.9607\n",
      "              precision    recall  f1-score   support\n",
      "\n",
      "           0       0.94      0.89      0.92      1166\n",
      "           1       0.90      0.96      0.93      1165\n",
      "           2       0.88      0.93      0.90      1165\n",
      "           3       0.94      0.99      0.96      1167\n",
      "           4       0.97      0.92      0.94      1167\n",
      "           5       1.00      0.99      1.00      1165\n",
      "           6       1.00      0.74      0.85      1167\n",
      "           7       0.99      0.98      0.99      1167\n",
      "           8       0.80      0.99      0.88      1167\n",
      "           9       1.00      1.00      1.00      1167\n",
      "          10       0.99      0.76      0.86      1167\n",
      "          11       0.80      1.00      0.89      1167\n",
      "          12       0.98      1.00      0.99      1167\n",
      "          13       0.99      1.00      1.00      1158\n",
      "          14       0.99      0.99      0.99      1166\n",
      "          15       1.00      1.00      1.00      1167\n",
      "          16       1.00      1.00      1.00      1167\n",
      "          17       1.00      1.00      1.00      1167\n",
      "          18       0.96      0.98      0.97      1125\n",
      "          19       1.00      1.00      1.00      1167\n",
      "          20       0.97      0.98      0.97      1164\n",
      "          21       1.00      1.00      1.00      1166\n",
      "          22       0.99      0.99      0.99      1165\n",
      "          23       0.96      0.98      0.97      1166\n",
      "          24       0.98      0.95      0.96      1166\n",
      "          25       0.98      0.97      0.98      1166\n",
      "          26       1.00      0.99      0.99      1158\n",
      "          27       0.98      0.99      0.99      1158\n",
      "          28       0.92      0.87      0.90      1161\n",
      "          29       1.00      1.00      1.00      1166\n",
      "\n",
      "    accuracy                           0.96     34917\n",
      "   macro avg       0.96      0.96      0.96     34917\n",
      "weighted avg       0.96      0.96      0.96     34917\n",
      "\n"
     ]
    },
    {
     "ename": "NotFittedError",
     "evalue": "This SVC instance is not fitted yet. Call 'fit' with appropriate arguments before using this estimator.",
     "output_type": "error",
     "traceback": [
      "\u001b[31m---------------------------------------------------------------------------\u001b[39m",
      "\u001b[31mNotFittedError\u001b[39m                            Traceback (most recent call last)",
      "\u001b[36mCell\u001b[39m\u001b[36m \u001b[39m\u001b[32mIn[24]\u001b[39m\u001b[32m, line 9\u001b[39m\n\u001b[32m      2\u001b[39m models = {\n\u001b[32m      3\u001b[39m     \u001b[33m\"\u001b[39m\u001b[33mSurappris\u001b[39m\u001b[33m\"\u001b[39m: clf_surfit,\n\u001b[32m      4\u001b[39m     \u001b[33m\"\u001b[39m\u001b[33mRégularisé\u001b[39m\u001b[33m\"\u001b[39m: clf_regul,\n\u001b[32m      5\u001b[39m     \u001b[33m\"\u001b[39m\u001b[33mValidation croisée\u001b[39m\u001b[33m\"\u001b[39m: clf_cv\n\u001b[32m      6\u001b[39m }\n\u001b[32m      8\u001b[39m \u001b[38;5;28;01mfor\u001b[39;00m name, model \u001b[38;5;129;01min\u001b[39;00m models.items():\n\u001b[32m----> \u001b[39m\u001b[32m9\u001b[39m     y_pred = \u001b[43mmodel\u001b[49m\u001b[43m.\u001b[49m\u001b[43mpredict\u001b[49m\u001b[43m(\u001b[49m\u001b[43mX\u001b[49m\u001b[43m)\u001b[49m\n\u001b[32m     10\u001b[39m     acc = accuracy_score(y, y_pred)\n\u001b[32m     11\u001b[39m     \u001b[38;5;28mprint\u001b[39m(\u001b[33mf\u001b[39m\u001b[33m\"\u001b[39m\u001b[33m \u001b[39m\u001b[38;5;132;01m{\u001b[39;00mname\u001b[38;5;132;01m}\u001b[39;00m\u001b[33m - Accuracy: \u001b[39m\u001b[38;5;132;01m{\u001b[39;00macc\u001b[38;5;132;01m:\u001b[39;00m\u001b[33m.4f\u001b[39m\u001b[38;5;132;01m}\u001b[39;00m\u001b[33m\"\u001b[39m)\n",
      "\u001b[36mFile \u001b[39m\u001b[32mc:\\Users\\bmd tech\\Documents\\esp_s2\\Fouille de donnees\\Master1.GLSI.MameBousso.Mbacke_Mously.Diakhate\\env_fouille\\Lib\\site-packages\\sklearn\\svm\\_base.py:809\u001b[39m, in \u001b[36mBaseSVC.predict\u001b[39m\u001b[34m(self, X)\u001b[39m\n\u001b[32m    792\u001b[39m \u001b[38;5;28;01mdef\u001b[39;00m\u001b[38;5;250m \u001b[39m\u001b[34mpredict\u001b[39m(\u001b[38;5;28mself\u001b[39m, X):\n\u001b[32m    793\u001b[39m \u001b[38;5;250m    \u001b[39m\u001b[33;03m\"\"\"Perform classification on samples in X.\u001b[39;00m\n\u001b[32m    794\u001b[39m \n\u001b[32m    795\u001b[39m \u001b[33;03m    For an one-class model, +1 or -1 is returned.\u001b[39;00m\n\u001b[32m   (...)\u001b[39m\u001b[32m    807\u001b[39m \u001b[33;03m        Class labels for samples in X.\u001b[39;00m\n\u001b[32m    808\u001b[39m \u001b[33;03m    \"\"\"\u001b[39;00m\n\u001b[32m--> \u001b[39m\u001b[32m809\u001b[39m     \u001b[43mcheck_is_fitted\u001b[49m\u001b[43m(\u001b[49m\u001b[38;5;28;43mself\u001b[39;49m\u001b[43m)\u001b[49m\n\u001b[32m    810\u001b[39m     \u001b[38;5;28;01mif\u001b[39;00m \u001b[38;5;28mself\u001b[39m.break_ties \u001b[38;5;129;01mand\u001b[39;00m \u001b[38;5;28mself\u001b[39m.decision_function_shape == \u001b[33m\"\u001b[39m\u001b[33movo\u001b[39m\u001b[33m\"\u001b[39m:\n\u001b[32m    811\u001b[39m         \u001b[38;5;28;01mraise\u001b[39;00m \u001b[38;5;167;01mValueError\u001b[39;00m(\n\u001b[32m    812\u001b[39m             \u001b[33m\"\u001b[39m\u001b[33mbreak_ties must be False when decision_function_shape is \u001b[39m\u001b[33m'\u001b[39m\u001b[33movo\u001b[39m\u001b[33m'\u001b[39m\u001b[33m\"\u001b[39m\n\u001b[32m    813\u001b[39m         )\n",
      "\u001b[36mFile \u001b[39m\u001b[32mc:\\Users\\bmd tech\\Documents\\esp_s2\\Fouille de donnees\\Master1.GLSI.MameBousso.Mbacke_Mously.Diakhate\\env_fouille\\Lib\\site-packages\\sklearn\\utils\\validation.py:1754\u001b[39m, in \u001b[36mcheck_is_fitted\u001b[39m\u001b[34m(estimator, attributes, msg, all_or_any)\u001b[39m\n\u001b[32m   1751\u001b[39m     \u001b[38;5;28;01mreturn\u001b[39;00m\n\u001b[32m   1753\u001b[39m \u001b[38;5;28;01mif\u001b[39;00m \u001b[38;5;129;01mnot\u001b[39;00m _is_fitted(estimator, attributes, all_or_any):\n\u001b[32m-> \u001b[39m\u001b[32m1754\u001b[39m     \u001b[38;5;28;01mraise\u001b[39;00m NotFittedError(msg % {\u001b[33m\"\u001b[39m\u001b[33mname\u001b[39m\u001b[33m\"\u001b[39m: \u001b[38;5;28mtype\u001b[39m(estimator).\u001b[34m__name__\u001b[39m})\n",
      "\u001b[31mNotFittedError\u001b[39m: This SVC instance is not fitted yet. Call 'fit' with appropriate arguments before using this estimator."
     ]
    }
   ],
   "source": [
    "# Comparaison globale\n",
    "models = {\n",
    "    \"Surappris\": clf_surfit,\n",
    "    \"Régularisé\": clf_regul,\n",
    "    \"Validation croisée\": clf_cv\n",
    "}\n",
    "\n",
    "for name, model in models.items():\n",
    "    y_pred = model.predict(X)\n",
    "    acc = accuracy_score(y, y_pred)\n",
    "    print(f\" {name} - Accuracy: {acc:.4f}\")\n",
    "    print(classification_report(y, y_pred)) \n"
   ]
  },
  {
   "cell_type": "code",
   "execution_count": null,
   "id": "0606b627",
   "metadata": {},
   "outputs": [
    {
     "name": "stdout",
     "output_type": "stream",
     "text": [
      "🎯 Validation croisée - Accuracy scores : [0.65059817 0.85749472 0.86523575 0.86910626 0.65423192]\n",
      "Moyenne : 0.7793333649514342\n",
      "Écart-type : 0.10370218184332516\n"
     ]
    },
    {
     "data": {
      "text/plain": [
       "['src/model_cv.pkl']"
      ]
     },
     "execution_count": 15,
     "metadata": {},
     "output_type": "execute_result"
    }
   ],
   "source": [
    "# 🔍 Matrice de confusion pour le meilleur modèle\n",
    "best_model = clf_cv  # par exemple\n",
    "y_pred = best_model.predict(X)\n",
    "\n",
    "cm = confusion_matrix(y, y_pred)\n",
    "sns.heatmap(cm, annot=True, fmt=\"d\", cmap=\"Blues\", xticklabels=label_encoder.classes_, yticklabels=label_encoder.classes_)\n",
    "plt.xlabel(\"Prédit\")\n",
    "plt.ylabel(\"Réel\")\n",
    "plt.title(\"Matrice de confusion\")\n",
    "plt.show()\n"
   ]
  }
 ],
 "metadata": {
  "kernelspec": {
   "display_name": "env_fouille",
   "language": "python",
   "name": "python3"
  },
  "language_info": {
   "codemirror_mode": {
    "name": "ipython",
    "version": 3
   },
   "file_extension": ".py",
   "mimetype": "text/x-python",
   "name": "python",
   "nbconvert_exporter": "python",
   "pygments_lexer": "ipython3",
   "version": "3.12.3"
  }
 },
 "nbformat": 4,
 "nbformat_minor": 5
}
